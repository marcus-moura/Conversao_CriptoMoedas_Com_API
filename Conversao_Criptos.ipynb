{
 "cells": [
  {
   "cell_type": "code",
   "execution_count": 3,
   "metadata": {},
   "outputs": [
    {
     "name": "stdout",
     "output_type": "stream",
     "text": [
      "<Response [200]> <Response [200]> <Response [200]> 200\n"
     ]
    }
   ],
   "source": [
    "import requests\n",
    "Bnb = 'https://www.alphavantage.co/query?function=CURRENCY_EXCHANGE_RATE&from_currency=BNB&to_currency=BRL&apikey=8OBXW2BFRO9XHNUS'\n",
    "Btc = 'https://www.alphavantage.co/query?function=CURRENCY_EXCHANGE_RATE&from_currency=BTC&to_currency=BRL&apikey=8OBXW2BFRO9XHNUS'\n",
    "Eth = 'https://www.alphavantage.co/query?function=CURRENCY_EXCHANGE_RATE&from_currency=ETH&to_currency=BRL&apikey=8OBXW2BFRO9XHNUS'\n",
    "r = requests.get(Btc)\n",
    "r2 = requests.get(Eth)\n",
    "r3 = requests.get(Bnb)\n",
    "print(r, r2, r3, end=' ')\n",
    "\n",
    "print(r.status_code)"
   ]
  },
  {
   "cell_type": "markdown",
   "metadata": {},
   "source": [
    "# Imprimindo as APIs"
   ]
  },
  {
   "cell_type": "code",
   "execution_count": 4,
   "metadata": {},
   "outputs": [
    {
     "name": "stdout",
     "output_type": "stream",
     "text": [
      "\n",
      "BitCoin\n",
      "\n",
      "{'Realtime Currency Exchange Rate': {'1. From_Currency Code': 'BTC', '2. From_Currency Name': 'Bitcoin', '3. To_Currency Code': 'BRL', '4. To_Currency Name': 'Brazilian Real', '5. Exchange Rate': '178467.48360200', '6. Last Refreshed': '2021-07-24 17:37:04', '7. Time Zone': 'UTC', '8. Bid Price': '178467.43160400', '9. Ask Price': '178467.48360200'}}\n",
      "------------------------------------------------------------------------------------------------------------------------------\n",
      "\n",
      "Ethereum\n",
      "\n",
      "{'Realtime Currency Exchange Rate': {'1. From_Currency Code': 'ETH', '2. From_Currency Name': 'Ethereum', '3. To_Currency Code': 'BRL', '4. To_Currency Name': 'Brazilian Real', '5. Exchange Rate': '11398.27358800', '6. Last Refreshed': '2021-07-24 17:37:13', '7. Time Zone': 'UTC', '8. Bid Price': '11398.22159000', '9. Ask Price': '11398.27358800'}}\n",
      "\n",
      "BinanceCoin\n",
      "\n",
      "{'Realtime Currency Exchange Rate': {'1. From_Currency Code': 'BNB', '2. From_Currency Name': 'Binance-Coin', '3. To_Currency Code': 'BRL', '4. To_Currency Name': 'Brazilian Real', '5. Exchange Rate': '1592.35695385', '6. Last Refreshed': '2021-07-24 17:37:14', '7. Time Zone': 'UTC', '8. Bid Price': '1592.32112582', '9. Ask Price': '1592.36125321'}}\n"
     ]
    }
   ],
   "source": [
    "print(\"\\nBitCoin\")\n",
    "data = r.json()\n",
    "print(f\"\\n{data}\")\n",
    "print('-'*126)\n",
    "\n",
    "print(\"\\nEthereum\")\n",
    "data2 = r2.json()\n",
    "print(f\"\\n{data2}\")\n",
    "\n",
    "print(\"\\nBinanceCoin\")\n",
    "data3 = r3.json()\n",
    "print(f\"\\n{data3}\")"
   ]
  },
  {
   "cell_type": "markdown",
   "metadata": {},
   "source": [
    "# Convertendo as Moedas"
   ]
  },
  {
   "cell_type": "code",
   "execution_count": null,
   "metadata": {},
   "outputs": [],
   "source": [
    "moeda = int(input(\"Qual moeda voçê deseja converter(1-BTC/ 2-ETH/ 3-BNB/ 0-Sair) \"))\n",
    "while moeda != 0:\n",
    "    while True:\n",
    "        if moeda != 1 and moeda != 2 and moeda != 3 and moeda != 0:\n",
    "            print(\"\\nMoeda não encontrada, Digite novamente!\")\n",
    "            moeda = int(input(\"Qual moeda voçê deseja converter(1-BTC/ 2-ETH/ 3-BNB/ 0-Sair) \"))\n",
    "        else: \n",
    "            break\n",
    "    \n",
    "    if moeda == 1:\n",
    "        print(\"\\n\\t\\tBitcoin selecionado!\")\n",
    "        valor = float(input(\"\\nDigite o valor em BRL: \"))\n",
    "        converBtc = float(data['Realtime Currency Exchange Rate']['5. Exchange Rate'])\n",
    "        print(f'R${valor} é igual a {valor/converBtc:.6f} BTC')\n",
    "        print('-'*126)\n",
    "    elif moeda == 2:\n",
    "        print(\"\\n\\t\\tEthereum selecionado!\")\n",
    "        valor = float(input(\"\\nDigite o valor em BRL: \"))\n",
    "        converEth = float(data2['Realtime Currency Exchange Rate']['9. Ask Price'])\n",
    "        print(f'R${valor} é igual a {valor/converEth:.6f} ETH')\n",
    "        print('-'*126)\n",
    "    else:\n",
    "        if moeda == 3:\n",
    "            print(\"\\n\\t\\tBinanceCoin selecionado!\")\n",
    "            valor = float(input(\"\\nDigite o valor em BRL: \"))\n",
    "            converBnb = float(data3['Realtime Currency Exchange Rate']['9. Ask Price'])\n",
    "            print(f'R${valor} é igual a {valor/converBnb:.6f} BNB')\n",
    "        else: \n",
    "            break\n",
    "\n",
    "    moeda  = int(input(\"Qual moeda voçê deseja converter(1-BTC/ 2-ETH/ 3-BNB/ 0-Sair) \"))\n",
    "\n",
    "print(\"\\n----------Programa Finalizado----------\")\n"
   ]
  },
  {
   "cell_type": "code",
   "execution_count": null,
   "metadata": {},
   "outputs": [],
   "source": []
  },
  {
   "cell_type": "code",
   "execution_count": null,
   "metadata": {},
   "outputs": [],
   "source": []
  },
  {
   "cell_type": "code",
   "execution_count": null,
   "metadata": {},
   "outputs": [],
   "source": []
  }
 ],
 "metadata": {
  "kernelspec": {
   "display_name": "Python 3",
   "language": "python",
   "name": "python3"
  },
  "language_info": {
   "codemirror_mode": {
    "name": "ipython",
    "version": 3
   },
   "file_extension": ".py",
   "mimetype": "text/x-python",
   "name": "python",
   "nbconvert_exporter": "python",
   "pygments_lexer": "ipython3",
   "version": "3.8.5"
  }
 },
 "nbformat": 4,
 "nbformat_minor": 4
}
